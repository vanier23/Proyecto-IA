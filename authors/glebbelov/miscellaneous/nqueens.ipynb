{
  "cells": [
    {
      "cell_type": "markdown",
      "metadata": {
        "id": "7RjB1ipC7KbS"
      },
      "source": [
        "# N-Queens\n",
        "[![nqueens.ipynb](https://img.shields.io/badge/github-%23121011.svg?logo=github)](https://github.com/ampl/colab.ampl.com/blob/master/authors/glebbelov/miscellaneous/nqueens.ipynb) [![Open In Colab](https://colab.research.google.com/assets/colab-badge.svg)](https://colab.research.google.com/github/ampl/colab.ampl.com/blob/master/authors/glebbelov/miscellaneous/nqueens.ipynb) [![Open In Deepnote](https://deepnote.com/buttons/launch-in-deepnote-small.svg)](https://deepnote.com/launch?url=https://github.com/ampl/colab.ampl.com/blob/master/authors/glebbelov/miscellaneous/nqueens.ipynb) [![Open In Kaggle](https://kaggle.com/static/images/open-in-kaggle.svg)](https://kaggle.com/kernels/welcome?src=https://github.com/ampl/colab.ampl.com/blob/master/authors/glebbelov/miscellaneous/nqueens.ipynb) [![Open In Gradient](https://assets.paperspace.io/img/gradient-badge.svg)](https://console.paperspace.com/github/ampl/colab.ampl.com/blob/master/authors/glebbelov/miscellaneous/nqueens.ipynb) [![Open In SageMaker Studio Lab](https://studiolab.sagemaker.aws/studiolab.svg)](https://studiolab.sagemaker.aws/import/github/ampl/colab.ampl.com/blob/master/authors/glebbelov/miscellaneous/nqueens.ipynb) [![Powered by AMPL](https://h.ampl.com/https://github.com/ampl/colab.ampl.com/blob/master/authors/glebbelov/miscellaneous/nqueens.ipynb)](https://ampl.com)\n",
        "\n",
        "Description: How can N queens be placed on an NxN chessboard so that no two of them attack each other?\n",
        "\n",
        "Tags: amplpy, constraint-programming, highlights\n",
        "\n",
        "Notebook author: Gleb Belov <<gleb@ampl.com>>"
      ]
    },
    {
      "cell_type": "code",
      "execution_count": 4,
      "metadata": {
        "id": "rQ50dBwL7KbX"
      },
      "outputs": [],
      "source": [
        "# Install dependencies\n",
        "%pip install -q amplpy"
      ]
    },
    {
      "cell_type": "code",
      "execution_count": 6,
      "metadata": {
        "colab": {
          "base_uri": "https://localhost:8080/"
        },
        "id": "s7DEaRp87KbY",
        "outputId": "431c5d58-57f4-4f4a-e6e4-7d18e132a649"
      },
      "outputs": [
        {
          "output_type": "stream",
          "name": "stdout",
          "text": [
            "Licensed to AMPL Academic Community Edition License for <andres.801913736@ucaldas.edu.co>.\n"
          ]
        }
      ],
      "source": [
        "# Google Colab & Kaggle integration\n",
        "from amplpy import AMPL, ampl_notebook\n",
        "# Google Colab & Kaggle integration\n",
        "from amplpy import AMPL, ampl_notebook\n",
        "\n",
        "ampl = ampl_notebook(\n",
        "    modules=[\"highs\", \"cbc\", \"gurobi\", \"cplex\"], # modules to install\n",
        "    license_uuid=\"45057f84-b658-4007-b338-9cd01471fc4b\",  # license to use\n",
        ")  # instantiate AMPL object and register magics"
      ]
    },
    {
      "cell_type": "code",
      "source": [],
      "metadata": {
        "id": "oN_M-G2wqaso"
      },
      "execution_count": null,
      "outputs": []
    },
    {
      "cell_type": "markdown",
      "metadata": {
        "id": "twrd0pLo7KbZ"
      },
      "source": [
        "## Modeling N-Queens with `alldiff`\n",
        "\n",
        "N-Queens: How can N queens be placed on an NxN chessboard so that no two of them attack each other?\n",
        "\n",
        "Constraint `alldiff` enforces a set of integer variables to take distinct values. Using `alldiff`, we can model N-Queens as follows:"
      ]
    },
    {
      "cell_type": "code",
      "execution_count": 7,
      "metadata": {
        "id": "aEtyesqs7KbZ"
      },
      "outputs": [],
      "source": [
        "%%ampl_eval\n",
        "reset;\n",
        "param n integer > 0; # N-queens\n",
        "var Row {1..n} integer >= 1 <= n;\n",
        "s.t. row_attacks: alldiff ({j in 1..n} Row[j]);\n",
        "s.t. diag_attacks: alldiff ({j in 1..n} Row[j]+j);\n",
        "s.t. rdiag_attacks: alldiff ({j in 1..n} Row[j]-j);"
      ]
    },
    {
      "cell_type": "markdown",
      "metadata": {
        "id": "jCyp8qRS7Kba"
      },
      "source": [
        "## Solving with HiGHS and displaying the solution"
      ]
    },
    {
      "cell_type": "code",
      "execution_count": 8,
      "metadata": {
        "colab": {
          "base_uri": "https://localhost:8080/"
        },
        "id": "jYDiBDD_7Kba",
        "outputId": "f56645f5-6c89-426c-a4c7-cfeb16873ad4"
      },
      "outputs": [
        {
          "output_type": "stream",
          "name": "stdout",
          "text": [
            "HiGHS 1.10.0:   tech:outlev = 0\n",
            "HiGHS 1.10.0: optimal solution\n",
            "2003 simplex iterations\n",
            "1 branching nodes\n",
            "Objective = find a feasible point.\n",
            "Solution\n",
            " +  +  +  +  +  +  +  +  +  +  +  +  +  +  Q  +  +  Q  +  + \n",
            " +  +  +  +  +  +  +  +  +  +  +  +  +  +  +  +  +  +  +  + \n",
            " +  +  +  +  Q  +  +  +  +  +  +  +  +  +  +  +  +  +  +  + \n",
            " +  +  +  +  +  +  +  Q  +  +  +  +  +  +  +  +  +  +  +  + \n",
            " +  +  +  +  +  Q  +  +  +  +  +  +  +  +  +  +  +  +  +  + \n",
            " +  +  +  +  +  +  +  +  +  +  +  +  +  Q  +  +  +  +  +  + \n",
            " +  +  +  +  +  +  Q  +  +  +  +  +  +  +  +  +  +  +  +  + \n",
            " +  +  +  +  +  +  +  +  +  +  +  +  +  +  +  +  +  +  Q  + \n",
            " +  +  +  +  +  +  +  +  +  +  +  +  +  +  +  Q  +  +  +  + \n",
            " +  +  Q  +  +  +  +  +  +  +  +  +  +  +  +  +  +  +  +  + \n",
            " +  +  +  +  +  +  +  +  +  Q  +  +  +  +  +  +  +  +  +  + \n",
            " +  +  +  +  +  +  +  +  +  +  +  +  +  +  +  +  Q  +  +  + \n",
            " Q  +  +  +  +  +  +  +  Q  +  +  +  +  +  +  +  +  +  +  + \n",
            " +  +  +  +  +  +  +  +  +  +  +  +  Q  +  +  +  +  +  +  + \n",
            " +  +  +  +  +  +  +  +  +  +  +  +  +  +  +  +  +  +  +  + \n",
            " +  Q  +  +  +  +  +  +  +  +  +  +  +  +  +  +  +  +  +  + \n",
            " +  +  +  +  +  +  +  +  +  +  +  +  +  +  +  +  +  +  +  Q \n",
            " +  +  +  +  +  +  +  +  +  +  +  Q  +  +  +  +  +  +  +  + \n",
            " +  +  +  Q  +  +  +  +  +  +  +  +  +  +  +  +  +  +  +  + \n",
            " +  +  +  +  +  +  +  +  +  +  Q  +  +  +  +  +  +  +  +  + \n"
          ]
        }
      ],
      "source": [
        "n = 20\n",
        "ampl.param[\"n\"] = n\n",
        "ampl.solve(solver=\"highs\", highs_options=\"outlev=0\")\n",
        "assert ampl.solve_result == \"solved\", ampl.solve_result\n",
        "solution = ampl.get_data(\"Row\").to_dict()\n",
        "queens = set((int(r) - 1, int(c) - 1) for c, r in solution.items())\n",
        "print(\"Solution\")\n",
        "for r in range(n):\n",
        "    print(\"\".join([\" Q \" if (r, c) in queens else \" + \" for c in range(n)]))"
      ]
    }
  ],
  "metadata": {
    "colab": {
      "provenance": []
    },
    "kernelspec": {
      "display_name": "Python 3.9.13 ('venv': venv)",
      "language": "python",
      "name": "python3"
    },
    "language_info": {
      "codemirror_mode": {
        "name": "ipython",
        "version": 3
      },
      "file_extension": ".py",
      "mimetype": "text/x-python",
      "name": "python",
      "nbconvert_exporter": "python",
      "pygments_lexer": "ipython3",
      "version": "3.9.13 (main, May 24 2022, 21:28:31) \n[Clang 13.1.6 (clang-1316.0.21.2)]"
    },
    "vscode": {
      "interpreter": {
        "hash": "ee4198aac13dae9b6fccd443041680d99c2643c4956ef7c80ff6dcc0057cb523"
      }
    }
  },
  "nbformat": 4,
  "nbformat_minor": 0
}